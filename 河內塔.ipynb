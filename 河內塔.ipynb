{
  "nbformat": 4,
  "nbformat_minor": 0,
  "metadata": {
    "colab": {
      "name": "河內塔.ipynb",
      "provenance": []
    },
    "kernelspec": {
      "name": "python3",
      "display_name": "Python 3"
    }
  },
  "cells": [
    {
      "cell_type": "markdown",
      "metadata": {
        "id": "8NdYg0ziop5J",
        "colab_type": "text"
      },
      "source": [
        "將n個碟子移到不同柱子,大碟子不能在小碟子上"
      ]
    },
    {
      "cell_type": "code",
      "metadata": {
        "id": "-qdyoSlgobIq",
        "colab_type": "code",
        "colab": {}
      },
      "source": [
        "def hanoi(n, start, end, other):\n",
        "  if not n:\n",
        "    return\n",
        "  hanoi(n-1, start, other, end)\n",
        "  print(f'move disk from {start} to {end}')\n",
        "  hanoi(n-1, other, end, start)"
      ],
      "execution_count": 0,
      "outputs": []
    },
    {
      "cell_type": "code",
      "metadata": {
        "id": "iHe3SdDrphiV",
        "colab_type": "code",
        "outputId": "225abf39-92cf-4fba-db37-68e9ad096076",
        "colab": {
          "base_uri": "https://localhost:8080/",
          "height": 136
        }
      },
      "source": [
        "hanoi(3, 'pole a', 'pole b', 'pole c')"
      ],
      "execution_count": 0,
      "outputs": [
        {
          "output_type": "stream",
          "text": [
            "move disk from pole a to pole b\n",
            "move disk from pole a to pole c\n",
            "move disk from pole b to pole c\n",
            "move disk from pole a to pole b\n",
            "move disk from pole c to pole a\n",
            "move disk from pole c to pole b\n",
            "move disk from pole a to pole b\n"
          ],
          "name": "stdout"
        }
      ]
    }
  ]
}